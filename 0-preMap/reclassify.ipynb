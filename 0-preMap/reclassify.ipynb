{
 "cells": [
  {
   "cell_type": "code",
   "execution_count": 1,
   "metadata": {},
   "outputs": [],
   "source": [
    "import geopandas as gpd"
   ]
  },
  {
   "cell_type": "code",
   "execution_count": 2,
   "metadata": {},
   "outputs": [],
   "source": [
    "# Load the shapefile\n",
    "shapefile_path = '/Users/rrs/Library/CloudStorage/OneDrive-KTH/KTH/SUPD/0-Degree Project/02-Codes/0-Data/01-Temp_Regulation/Data0612/fakemap.shp'\n",
    "gdf = gpd.read_file(shapefile_path)"
   ]
  },
  {
   "cell_type": "code",
   "execution_count": 3,
   "metadata": {},
   "outputs": [
    {
     "name": "stdout",
     "output_type": "stream",
     "text": [
      "   fid_1  BFSNr Qualitaet                 Art   GWR_EGID Kanton  BDFT_pred  \\\n",
      "0    0.0   1366      AV93            Gebaeude  504095534     SZ        0.0   \n",
      "1    0.0   1366      AV93            Gebaeude  504095489     SZ        0.0   \n",
      "2    0.0   1366      AV93   Acker_Wiese_Weide       None     SZ        0.0   \n",
      "3    0.0   1366      AV93  uebrige_befestigte       None     SZ        0.0   \n",
      "4    0.0   1366      AV93  uebrige_befestigte       None     SZ        0.0   \n",
      "\n",
      "    Shape_Leng    Shape_Area  \\\n",
      "0    68.157601    259.142264   \n",
      "1   113.716031    648.205220   \n",
      "2  1034.591666  16064.027476   \n",
      "3   131.824583    314.621067   \n",
      "4   175.215438    412.173404   \n",
      "\n",
      "                                            geometry  \n",
      "0  POLYGON ((2691308.396 1205189.266, 2691303.044...  \n",
      "1  POLYGON ((2691479.276 1205073.302, 2691476.586...  \n",
      "2  MULTIPOLYGON (((2690812.233 1205007.611, 26908...  \n",
      "3  POLYGON ((2690911.596 1205314.897, 2690908.298...  \n",
      "4  POLYGON ((2690994.085 1205362.541, 2690992.476...  \n"
     ]
    }
   ],
   "source": [
    "# Check the first few rows to confirm the file was read correctly\n",
    "print(gdf.head())\n"
   ]
  },
  {
   "cell_type": "code",
   "execution_count": 4,
   "metadata": {},
   "outputs": [
    {
     "name": "stdout",
     "output_type": "stream",
     "text": [
      "Unique values in the 'Art' column:\n",
      "Gebaeude\n",
      "Acker_Wiese_Weide\n",
      "uebrige_befestigte\n",
      "uebrige_bestockte\n",
      "Gartenanlage\n",
      "uebrige_humusierte\n",
      "Fels\n",
      "Abbau_Deponie\n",
      "Bahn\n",
      "Trottoir\n",
      "uebrige_vegetationslose\n",
      "Schilfguertel\n",
      "uebrige_Intensivkultur\n",
      "Hoch_Flachmoor\n",
      "Geroell_Sand\n",
      "Reben\n",
      "geschlossener_Wald\n",
      "Gewaesser_fliessendes\n",
      "Wasserbecken\n",
      "Verkehrsinsel\n",
      "Strasse_Weg\n",
      "Gewaesser_stehendes\n"
     ]
    }
   ],
   "source": [
    "# Extract the unique values in the \"Art\" column\n",
    "art_values = gdf['Art'].unique()\n",
    "\n",
    "# Print the unique values\n",
    "print(\"Unique values in the 'Art' column:\")\n",
    "for value in art_values:\n",
    "    print(value)"
   ]
  },
  {
   "cell_type": "code",
   "execution_count": 5,
   "metadata": {},
   "outputs": [],
   "source": [
    "english_translation_map = {\n",
    "    'Gebaeude': 'Building',\n",
    "    'Acker_Wiese_Weide': 'Arable land, Meadow, Pasture',\n",
    "    'uebrige_befestigte': 'Other paved areas',\n",
    "    'uebrige_bestockte': 'Other vegetated areas',\n",
    "    'Gartenanlage': 'Garden',\n",
    "    'uebrige_humusierte': 'Other humus-covered areas',\n",
    "    'Fels': 'Rock',\n",
    "    'Abbau_Deponie': 'Quarry, Landfill',\n",
    "    'Bahn': 'Rail',\n",
    "    'Trottoir': 'Sidewalk',\n",
    "    'uebrige_vegetationslose': 'Other non-vegetated areas',\n",
    "    'Schilfguertel': 'Reed belt',\n",
    "    'uebrige_Intensivkultur': 'Other intensive cultivation',\n",
    "    'Hoch_Flachmoor': 'Raised or Flat Moor',\n",
    "    'Geroell_Sand': 'Gravel, Sand',\n",
    "    'Reben': 'Vines (Vineyards)',\n",
    "    'geschlossener_Wald': 'Closed Forest',\n",
    "    'Gewaesser_fliessendes': 'Flowing Water',\n",
    "    'Wasserbecken': 'Water Basin',\n",
    "    'Verkehrsinsel': 'Traffic Island',\n",
    "    'Strasse_Weg': 'Road, Path',\n",
    "    'Gewaesser_stehendes': 'Standing Water'\n",
    "}\n",
    "\n",
    "reclassification_map = {\n",
    "    'Gebaeude': 'Building',\n",
    "    'Acker_Wiese_Weide': 'Grass',\n",
    "    'uebrige_befestigte': 'Pavement',\n",
    "    'uebrige_bestockte': 'Shrub',\n",
    "    'Gartenanlage': 'Shrub',\n",
    "    'uebrige_humusierte': 'Grass',\n",
    "    'Fels': 'Sand',\n",
    "    'Abbau_Deponie': 'Sand',\n",
    "    'Bahn': 'Rail',\n",
    "    'Trottoir': 'Pavement',\n",
    "    'uebrige_vegetationslose': 'Pavement',\n",
    "    'Schilfguertel': 'Shrub',\n",
    "    'uebrige_Intensivkultur': 'Shrub',\n",
    "    'Hoch_Flachmoor': 'Grass',\n",
    "    'Geroell_Sand': 'Sand',\n",
    "    'Reben': 'Shrub',\n",
    "    'geschlossener_Wald': 'Trees',\n",
    "    'Gewaesser_fliessendes': 'Water',\n",
    "    'Wasserbecken': 'Water',\n",
    "    'Verkehrsinsel': 'Pavement',\n",
    "    'Strasse_Weg': 'Pavement',\n",
    "    'Gewaesser_stehendes': 'Water'\n",
    "}"
   ]
  },
  {
   "cell_type": "code",
   "execution_count": 6,
   "metadata": {},
   "outputs": [],
   "source": [
    "gdf['Art_en'] = gdf['Art'].map(english_translation_map)\n",
    "gdf['LCtype'] = gdf['Art'].map(reclassification_map)"
   ]
  },
  {
   "cell_type": "code",
   "execution_count": 7,
   "metadata": {},
   "outputs": [],
   "source": [
    "output_shapefile_path = '/Users/rrs/Library/CloudStorage/OneDrive-KTH/KTH/SUPD/0-Degree Project/02-All Codes/ES_Assessment/0-Data/reclassify_map'  # Replace with desired output path\n",
    "gdf.to_file(output_shapefile_path)"
   ]
  },
  {
   "cell_type": "code",
   "execution_count": 9,
   "metadata": {},
   "outputs": [
    {
     "name": "stdout",
     "output_type": "stream",
     "text": [
      "                  Art                        Art_en    LCtype\n",
      "0            Gebaeude                      Building  Building\n",
      "1            Gebaeude                      Building  Building\n",
      "2   Acker_Wiese_Weide  Arable land, Meadow, Pasture     Grass\n",
      "3  uebrige_befestigte             Other paved areas  Pavement\n",
      "4  uebrige_befestigte             Other paved areas  Pavement\n"
     ]
    }
   ],
   "source": [
    "print(gdf[['Art', 'Art_en', 'LCtype']].head())\n"
   ]
  },
  {
   "cell_type": "code",
   "execution_count": 11,
   "metadata": {},
   "outputs": [
    {
     "name": "stdout",
     "output_type": "stream",
     "text": [
      "Unique values in the 'LCtype' column:\n",
      "Building\n",
      "Grass\n",
      "Pavement\n",
      "Shrub\n",
      "Sand\n",
      "Rail\n",
      "Trees\n",
      "Water\n"
     ]
    }
   ],
   "source": [
    "art_values = gdf['LCtype'].unique()\n",
    "\n",
    "# Print the unique values\n",
    "print(\"Unique values in the 'LCtype' column:\")\n",
    "for value in art_values:\n",
    "    print(value)"
   ]
  },
  {
   "cell_type": "code",
   "execution_count": null,
   "metadata": {},
   "outputs": [],
   "source": []
  }
 ],
 "metadata": {
  "kernelspec": {
   "display_name": "MT_ESA",
   "language": "python",
   "name": "python3"
  },
  "language_info": {
   "codemirror_mode": {
    "name": "ipython",
    "version": 3
   },
   "file_extension": ".py",
   "mimetype": "text/x-python",
   "name": "python",
   "nbconvert_exporter": "python",
   "pygments_lexer": "ipython3",
   "version": "3.10.14"
  }
 },
 "nbformat": 4,
 "nbformat_minor": 2
}
