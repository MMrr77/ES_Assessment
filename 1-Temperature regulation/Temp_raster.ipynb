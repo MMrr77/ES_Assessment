{
 "cells": [
  {
   "cell_type": "code",
   "execution_count": null,
   "metadata": {},
   "outputs": [],
   "source": [
    "import geopandas as gpd\n",
    "import pandas as pd\n",
    "import rasterio\n",
    "from rasterio.features import geometry_mask, geometry_window\n",
    "from rasterio.enums import Resampling\n",
    "from rasterio.transform import from_bounds\n",
    "import numpy as np\n",
    "from rasterio.features import rasterize\n",
    "from rasterstats import zonal_stats\n",
    "import os"
   ]
  },
  {
   "cell_type": "code",
   "execution_count": null,
   "metadata": {},
   "outputs": [],
   "source": [
    "lcsf_path = \"/Users/rrs/Library/CloudStorage/OneDrive-KTH/KTH/SUPD/0-Degree Project/02-All Codes/ES_Assessment/0-Data/1_predict_newbds_parcels/lcsf.shp\"\n",
    "temp_bp_csv = \"/Users/rrs/Library/CloudStorage/OneDrive-KTH/KTH/SUPD/0-Degree Project/02-All Codes/ES_Assessment/0-Data/8-Temperature/BPh_0430.csv\"\n",
    "et0_raster_path = \"/Users/rrs/Library/CloudStorage/OneDrive-KTH/KTH/SUPD/0-Degree Project/02-All Codes/ES_Assessment/0-Data/8-Temperature/ET0_SZ.tif\"\n",
    "t_air_ref_raster_path = \"/Users/rrs/Library/CloudStorage/OneDrive-KTH/KTH/SUPD/0-Degree Project/02-All Codes/ES_Assessment/0-Data/8-Temperature/TempMon_July2019_SZ.tif\"\n",
    "output_albedo_path = \"Users/rrs/Library/CloudStorage/OneDrive-KTH/KTH/SUPD/0-Degree Project/02-All Codes/ES_Assessment/0-Data/8-Temperature/Albedo.tiff\"\n",
    "output_kc_path = \"Users/rrs/Library/CloudStorage/OneDrive-KTH/KTH/SUPD/0-Degree Project/02-All Codes/ES_Assessment/0-Data/8-Temperature/Kc.tiff\"\n",
    "output_ETI_path = \"Users/rrs/Library/CloudStorage/OneDrive-KTH/KTH/SUPD/0-Degree Project/02-All Codes/ES_Assessment/0-Data/8-Temperature/ETI.tiff\"\n",
    "output_CC_path = \"/Users/rrs/Library/CloudStorage/OneDrive-KTH/KTH/SUPD/0-Degree Project/02-All Codes/ES_Assessment/0-Data/8-Temperature/CC.tiff\"\n",
    "output_Temp_path = \"/Users/rrs/Library/CloudStorage/OneDrive-KTH/KTH/SUPD/0-Degree Project/02-All Codes/ES_Assessment/0-Data/8-Temperature/Temp.tiff\"\n",
    "output_shapefile_path = \"/Users/rrs/Library/CloudStorage/OneDrive-KTH/KTH/SUPD/0-Degree Project/02-All Codes/ES_Assessment/0-Data/8-Temperature/lcsf_result.shp\""
   ]
  },
  {
   "cell_type": "code",
   "execution_count": null,
   "metadata": {},
   "outputs": [],
   "source": [
    "os.makedirs(os.path.dirname(output_albedo_path), exist_ok=True)\n",
    "os.makedirs(os.path.dirname(output_kc_path), exist_ok=True)\n",
    "os.makedirs(os.path.dirname(output_ETI_path), exist_ok=True)\n",
    "os.makedirs(os.path.dirname(output_CC_path), exist_ok=True)\n",
    "os.makedirs(os.path.dirname(output_Temp_path), exist_ok=True)\n",
    "os.makedirs(os.path.dirname(output_shapefile_path), exist_ok=True)"
   ]
  },
  {
   "cell_type": "code",
   "execution_count": null,
   "metadata": {},
   "outputs": [],
   "source": [
    "target_crs = \"EPSG:2056\"\n",
    "\n",
    "lcsf_gdf = gpd.read_file(lcsf_path)\n",
    "lcsf_gdf = lcsf_gdf.to_crs(target_crs)\n",
    "\n",
    "temp_biophysical_df = pd.read_csv(temp_bp_csv, delimiter=\";\")"
   ]
  },
  {
   "cell_type": "code",
   "execution_count": null,
   "metadata": {},
   "outputs": [],
   "source": [
    "with rasterio.open(et0_raster_path) as et0_src:\n",
    "    et0_meta = et0_src.meta.copy()\n",
    "    et0_affine = et0_src.transform\n",
    "    et0_data = et0_src.read(1)\n",
    "    et0_bounds = et0_src.bounds\n",
    "    et0_res = et0_src.res\n",
    "\n",
    "with rasterio.open(t_air_ref_raster_path) as t_air_ref_src:\n",
    "    # Resample t_air_ref_data to match et0_data\n",
    "    t_air_ref_data = t_air_ref_src.read(\n",
    "        out_shape=(1, et0_data.shape[0], et0_data.shape[1]),\n",
    "        resampling=Resampling.bilinear\n",
    "    )[0]\n",
    "    t_air_ref_affine = et0_src.transform"
   ]
  },
  {
   "cell_type": "code",
   "execution_count": null,
   "metadata": {},
   "outputs": [],
   "source": [
    "lcsf_gdf = lcsf_gdf.merge(temp_biophysical_df, on=\"Art\")"
   ]
  },
  {
   "cell_type": "code",
   "execution_count": null,
   "metadata": {},
   "outputs": [],
   "source": [
    "# 4. Rasterize Albedo and Kc\n",
    "def rasterize_feature(geom, value, transform, out_shape, all_touched=False):\n",
    "    return rasterize(\n",
    "        [(g, v) for g, v in zip(geom, value)],\n",
    "        out_shape=out_shape,\n",
    "        transform=transform,\n",
    "        fill=0,\n",
    "        all_touched=all_touched,\n",
    "        dtype=rasterio.float32\n",
    "    )\n",
    "\n",
    "albedo_raster = rasterize_feature(lcsf_gdf.geometry, lcsf_gdf['Albedo'], et0_affine, et0_data.shape)\n",
    "kc_raster = rasterize_feature(lcsf_gdf.geometry, lcsf_gdf['Kc'], et0_affine, et0_data.shape)\n",
    "\n",
    "# Update the metadata for saving the rasters\n",
    "et0_meta.update(dtype=rasterio.float32, count=1, compress='lzw')\n",
    "# Save the Albedo and Kc rasters\n",
    "with rasterio.open(output_albedo_path, 'w', **et0_meta) as dst:\n",
    "    dst.write(albedo_raster, 1)\n",
    "\n",
    "with rasterio.open(output_kc_path, 'w', **et0_meta) as dst:\n",
    "    dst.write(kc_raster, 1)"
   ]
  },
  {
   "cell_type": "code",
   "execution_count": null,
   "metadata": {},
   "outputs": [],
   "source": [
    "# Calculate ETI\n",
    "eti_raster = (kc_raster * et0_data) / np.max(et0_data)"
   ]
  },
  {
   "cell_type": "code",
   "execution_count": null,
   "metadata": {},
   "outputs": [],
   "source": [
    "# Save the ETI raster\n",
    "eti_meta = et0_meta.copy()\n",
    "eti_meta.update(dtype=rasterio.float32)\n",
    "with rasterio.open(output_ETI_path, 'w', **eti_meta) as dst:\n",
    "    dst.write(eti_raster, 1)"
   ]
  },
  {
   "cell_type": "code",
   "execution_count": null,
   "metadata": {},
   "outputs": [],
   "source": [
    "# Calculate Cooling Capacity (CC)\n",
    "shade_raster = rasterize_feature(lcsf_gdf.geometry, lcsf_gdf['Shade'], et0_affine, et0_data.shape)\n",
    "cc_raster = 0.6 * shade_raster + 0.2 * albedo_raster + 0.2 * eti_raster\n",
    "\n",
    "# Save the Cooling Capacity raster\n",
    "with rasterio.open(output_CC_path, 'w', **eti_meta) as dst:\n",
    "    dst.write(cc_raster, 1)"
   ]
  },
  {
   "cell_type": "code",
   "execution_count": null,
   "metadata": {},
   "outputs": [],
   "source": [
    "# Calculate Temperature\n",
    "UHI_max = 2.1 \n",
    "temp_raster = t_air_ref_data + (1 - cc_raster) * UHI_max"
   ]
  },
  {
   "cell_type": "code",
   "execution_count": null,
   "metadata": {},
   "outputs": [],
   "source": [
    "# Save the Temperature raster\n",
    "with rasterio.open(output_Temp_path, 'w', **eti_meta) as dst:\n",
    "    dst.write(temp_raster, 1)"
   ]
  },
  {
   "cell_type": "markdown",
   "metadata": {},
   "source": []
  },
  {
   "cell_type": "code",
   "execution_count": null,
   "metadata": {},
   "outputs": [],
   "source": [
    "# Aggregate raster values to polygons\n",
    "\n",
    "# Add \"CC\" attribute to shapefile\n",
    "lcsf_gdf['CC'] = [x['mean'] for x in zonal_stats(lcsf_gdf, cc_raster, affine=et0_affine, stats=['mean'])]\n",
    "\n",
    "# Add \"temperature\" attribute to shapefile\n",
    "lcsf_gdf['temperature'] = [x['mean'] for x in zonal_stats(lcsf_gdf, temp_raster, affine=et0_affine, stats=['mean'])]"
   ]
  },
  {
   "cell_type": "code",
   "execution_count": null,
   "metadata": {},
   "outputs": [],
   "source": [
    "# Save the updated shapefile\n",
    "lcsf_gdf.to_file(output_shapefile_path)\n",
    "print(f\"Updated shapefile saved to: {output_shapefile_path}\")"
   ]
  }
 ],
 "metadata": {
  "kernelspec": {
   "display_name": "MT_ESA",
   "language": "python",
   "name": "python3"
  },
  "language_info": {
   "codemirror_mode": {
    "name": "ipython",
    "version": 3
   },
   "file_extension": ".py",
   "mimetype": "text/x-python",
   "name": "python",
   "nbconvert_exporter": "python",
   "pygments_lexer": "ipython3",
   "version": "3.10.14"
  }
 },
 "nbformat": 4,
 "nbformat_minor": 2
}
